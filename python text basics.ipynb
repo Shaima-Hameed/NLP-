{
 "cells": [
  {
   "cell_type": "code",
   "execution_count": 1,
   "id": "23d56947",
   "metadata": {},
   "outputs": [
    {
     "name": "stdout",
     "output_type": "stream",
     "text": [
      "my name is jose\n"
     ]
    }
   ],
   "source": [
    "person='jose'\n",
    "print('my name is {}'.format(person))"
   ]
  },
  {
   "cell_type": "code",
   "execution_count": 2,
   "id": "5e637cd2",
   "metadata": {},
   "outputs": [
    {
     "name": "stdout",
     "output_type": "stream",
     "text": [
      "my name is jose\n"
     ]
    }
   ],
   "source": [
    "print(f\"my name is {person}\")"
   ]
  },
  {
   "cell_type": "code",
   "execution_count": 3,
   "id": "6de257eb",
   "metadata": {},
   "outputs": [
    {
     "name": "stdout",
     "output_type": "stream",
     "text": [
      "my number is 123\n"
     ]
    }
   ],
   "source": [
    "d = {'a':123 , 'b':456}\n",
    "print(f\"my number is {d['a']}\")"
   ]
  },
  {
   "cell_type": "code",
   "execution_count": 4,
   "id": "5a2dd2f2",
   "metadata": {},
   "outputs": [
    {
     "name": "stdout",
     "output_type": "stream",
     "text": [
      "my number is 0\n"
     ]
    }
   ],
   "source": [
    "mylist = [0,1,2]\n",
    "print(f\"my number is {mylist[0]}\")"
   ]
  },
  {
   "cell_type": "code",
   "execution_count": 6,
   "id": "41e9861a",
   "metadata": {},
   "outputs": [
    {
     "data": {
      "text/plain": [
       "[('Author', 'Topic', 'Pages'),\n",
       " ('Twain', 'Rafting', 601),\n",
       " ('Feynman', 'Physics', 95),\n",
       " ('Hamilton', 'Mythology', 144)]"
      ]
     },
     "execution_count": 6,
     "metadata": {},
     "output_type": "execute_result"
    }
   ],
   "source": [
    "library = [('Author', 'Topic', 'Pages'), ('Twain', 'Rafting', 601), ('Feynman', 'Physics', 95), ('Hamilton', 'Mythology', 144)]\n",
    "library"
   ]
  },
  {
   "cell_type": "code",
   "execution_count": 8,
   "id": "d7ac4dce",
   "metadata": {},
   "outputs": [
    {
     "name": "stdout",
     "output_type": "stream",
     "text": [
      "Author is Author\n",
      "Author is Twain\n",
      "Author is Feynman\n",
      "Author is Hamilton\n"
     ]
    }
   ],
   "source": [
    "for book in library: \n",
    "    print(f\"Author is {book[0]}\")"
   ]
  },
  {
   "cell_type": "code",
   "execution_count": 9,
   "id": "3c458eff",
   "metadata": {},
   "outputs": [
    {
     "name": "stdout",
     "output_type": "stream",
     "text": [
      "Author is Author\n",
      "Author is Twain\n",
      "Author is Feynman\n",
      "Author is Hamilton\n"
     ]
    }
   ],
   "source": [
    "for author,topic,pages in library:\n",
    "    print(f\"Author is {author}\")"
   ]
  },
  {
   "cell_type": "code",
   "execution_count": 11,
   "id": "c70a7818",
   "metadata": {},
   "outputs": [
    {
     "name": "stdout",
     "output_type": "stream",
     "text": [
      "Author     Topic                               Pages\n",
      "Twain      Rafting                               601\n",
      "Feynman    Physics                                95\n",
      "Hamilton   Mythology                             144\n"
     ]
    }
   ],
   "source": [
    "for author,topic,pages in library:\n",
    "    print(f\"{author:{10}} {topic:{30}} {pages:>{10}}\") #defining the number of spaces for each variable in the print statment "
   ]
  },
  {
   "cell_type": "code",
   "execution_count": 12,
   "id": "9fc15521",
   "metadata": {},
   "outputs": [],
   "source": [
    "from datetime import datetime "
   ]
  },
  {
   "cell_type": "code",
   "execution_count": 14,
   "id": "0219e4ff",
   "metadata": {},
   "outputs": [],
   "source": [
    "today = datetime(year=2024, month=1, day=4)"
   ]
  },
  {
   "cell_type": "code",
   "execution_count": 19,
   "id": "dbe32532",
   "metadata": {},
   "outputs": [
    {
     "name": "stdout",
     "output_type": "stream",
     "text": [
      "January 04, 2024\n"
     ]
    }
   ],
   "source": [
    "print(f\"{today:%B %d, %Y}\")"
   ]
  },
  {
   "cell_type": "code",
   "execution_count": 16,
   "id": "ca15556e",
   "metadata": {},
   "outputs": [
    {
     "data": {
      "text/plain": [
       "datetime.datetime(2024, 1, 4, 0, 0)"
      ]
     },
     "execution_count": 16,
     "metadata": {},
     "output_type": "execute_result"
    }
   ],
   "source": [
    "today"
   ]
  },
  {
   "cell_type": "code",
   "execution_count": 21,
   "id": "aed61ae0",
   "metadata": {},
   "outputs": [
    {
     "name": "stdout",
     "output_type": "stream",
     "text": [
      "Writing test.txt\n"
     ]
    }
   ],
   "source": [
    "%%writefile test.txt\n",
    "hello, this is a quick test file. \n",
    "this is thee second line of the file. "
   ]
  },
  {
   "cell_type": "code",
   "execution_count": 25,
   "id": "4b0416ed",
   "metadata": {},
   "outputs": [],
   "source": [
    "myfile = open(\"test.txt\")"
   ]
  },
  {
   "cell_type": "code",
   "execution_count": 23,
   "id": "514fcdec",
   "metadata": {},
   "outputs": [
    {
     "data": {
      "text/plain": [
       "'C:\\\\Users\\\\shaima.abusheiban\\\\2024\\\\NLP'"
      ]
     },
     "execution_count": 23,
     "metadata": {},
     "output_type": "execute_result"
    }
   ],
   "source": [
    "pwd"
   ]
  },
  {
   "cell_type": "code",
   "execution_count": 26,
   "id": "d7df4117",
   "metadata": {},
   "outputs": [
    {
     "data": {
      "text/plain": [
       "<_io.TextIOWrapper name='test.txt' mode='r' encoding='cp1252'>"
      ]
     },
     "execution_count": 26,
     "metadata": {},
     "output_type": "execute_result"
    }
   ],
   "source": [
    "myfile"
   ]
  },
  {
   "cell_type": "code",
   "execution_count": 27,
   "id": "1b604b17",
   "metadata": {},
   "outputs": [
    {
     "data": {
      "text/plain": [
       "'hello, this is a quick test file. \\nthis is thee second line of the file. \\n'"
      ]
     },
     "execution_count": 27,
     "metadata": {},
     "output_type": "execute_result"
    }
   ],
   "source": [
    "myfile.read()"
   ]
  },
  {
   "cell_type": "code",
   "execution_count": 28,
   "id": "82c48937",
   "metadata": {},
   "outputs": [
    {
     "data": {
      "text/plain": [
       "''"
      ]
     },
     "execution_count": 28,
     "metadata": {},
     "output_type": "execute_result"
    }
   ],
   "source": [
    "myfile.read()"
   ]
  },
  {
   "cell_type": "code",
   "execution_count": 29,
   "id": "67cc16ae",
   "metadata": {},
   "outputs": [
    {
     "data": {
      "text/plain": [
       "0"
      ]
     },
     "execution_count": 29,
     "metadata": {},
     "output_type": "execute_result"
    }
   ],
   "source": [
    "myfile.seek(0) #resetting the curser to index 0 to it can read the file again"
   ]
  },
  {
   "cell_type": "code",
   "execution_count": 30,
   "id": "0e89cf8d",
   "metadata": {},
   "outputs": [
    {
     "data": {
      "text/plain": [
       "'hello, this is a quick test file. \\nthis is thee second line of the file. \\n'"
      ]
     },
     "execution_count": 30,
     "metadata": {},
     "output_type": "execute_result"
    }
   ],
   "source": [
    "myfile.read()\n"
   ]
  },
  {
   "cell_type": "code",
   "execution_count": 33,
   "id": "55b05c8a",
   "metadata": {},
   "outputs": [
    {
     "data": {
      "text/plain": [
       "0"
      ]
     },
     "execution_count": 33,
     "metadata": {},
     "output_type": "execute_result"
    }
   ],
   "source": [
    "myfile.seek(0)"
   ]
  },
  {
   "cell_type": "code",
   "execution_count": 34,
   "id": "13382aa5",
   "metadata": {},
   "outputs": [],
   "source": [
    "content = myfile.read() # saving the content of the txt file as a string "
   ]
  },
  {
   "cell_type": "code",
   "execution_count": 35,
   "id": "e148d5f5",
   "metadata": {},
   "outputs": [
    {
     "data": {
      "text/plain": [
       "'hello, this is a quick test file. \\nthis is thee second line of the file. \\n'"
      ]
     },
     "execution_count": 35,
     "metadata": {},
     "output_type": "execute_result"
    }
   ],
   "source": [
    "content"
   ]
  },
  {
   "cell_type": "code",
   "execution_count": 36,
   "id": "7ef46a2b",
   "metadata": {},
   "outputs": [],
   "source": [
    "myfile.close()"
   ]
  },
  {
   "cell_type": "code",
   "execution_count": 38,
   "id": "a72a8147",
   "metadata": {},
   "outputs": [
    {
     "name": "stdout",
     "output_type": "stream",
     "text": [
      "hello, this is a quick test file. \n",
      "this is thee second line of the file. \n",
      "\n"
     ]
    }
   ],
   "source": [
    "print(content)"
   ]
  },
  {
   "cell_type": "code",
   "execution_count": 39,
   "id": "6426cd02",
   "metadata": {},
   "outputs": [],
   "source": [
    "myfile=open(\"test.txt\")"
   ]
  },
  {
   "cell_type": "code",
   "execution_count": 40,
   "id": "1801a83e",
   "metadata": {},
   "outputs": [],
   "source": [
    "content = myfile.readlines()"
   ]
  },
  {
   "cell_type": "code",
   "execution_count": 41,
   "id": "66704d00",
   "metadata": {},
   "outputs": [],
   "source": [
    "myfile.close()"
   ]
  },
  {
   "cell_type": "code",
   "execution_count": 42,
   "id": "41a73884",
   "metadata": {},
   "outputs": [
    {
     "data": {
      "text/plain": [
       "['hello, this is a quick test file. \\n',\n",
       " 'this is thee second line of the file. \\n']"
      ]
     },
     "execution_count": 42,
     "metadata": {},
     "output_type": "execute_result"
    }
   ],
   "source": [
    "content"
   ]
  },
  {
   "cell_type": "code",
   "execution_count": 44,
   "id": "e9872a45",
   "metadata": {},
   "outputs": [
    {
     "name": "stdout",
     "output_type": "stream",
     "text": [
      "hello,\n",
      "this\n"
     ]
    }
   ],
   "source": [
    "for line in content:\n",
    "    print(line.split()[0])"
   ]
  },
  {
   "cell_type": "code",
   "execution_count": 45,
   "id": "2b48ecaf",
   "metadata": {},
   "outputs": [],
   "source": [
    "myfile =open(\"test.txt\" , 'w+')"
   ]
  },
  {
   "cell_type": "code",
   "execution_count": 46,
   "id": "645a4a9b",
   "metadata": {},
   "outputs": [
    {
     "data": {
      "text/plain": [
       "''"
      ]
     },
     "execution_count": 46,
     "metadata": {},
     "output_type": "execute_result"
    }
   ],
   "source": [
    "myfile.read()"
   ]
  },
  {
   "cell_type": "code",
   "execution_count": 47,
   "id": "8c51263b",
   "metadata": {},
   "outputs": [
    {
     "data": {
      "text/plain": [
       "17"
      ]
     },
     "execution_count": 47,
     "metadata": {},
     "output_type": "execute_result"
    }
   ],
   "source": [
    "myfile.write(\"my brand new text\")"
   ]
  },
  {
   "cell_type": "code",
   "execution_count": 48,
   "id": "d464f802",
   "metadata": {},
   "outputs": [
    {
     "data": {
      "text/plain": [
       "0"
      ]
     },
     "execution_count": 48,
     "metadata": {},
     "output_type": "execute_result"
    }
   ],
   "source": [
    "myfile.seek(0)"
   ]
  },
  {
   "cell_type": "code",
   "execution_count": 49,
   "id": "24d57e04",
   "metadata": {},
   "outputs": [
    {
     "data": {
      "text/plain": [
       "'my brand new text'"
      ]
     },
     "execution_count": 49,
     "metadata": {},
     "output_type": "execute_result"
    }
   ],
   "source": [
    "myfile.read()"
   ]
  },
  {
   "cell_type": "code",
   "execution_count": 50,
   "id": "095015a0",
   "metadata": {},
   "outputs": [],
   "source": [
    " myfile.close()"
   ]
  },
  {
   "cell_type": "code",
   "execution_count": 51,
   "id": "0df5eb30",
   "metadata": {},
   "outputs": [],
   "source": [
    "myfile=open('test.txt', 'a+')"
   ]
  },
  {
   "cell_type": "code",
   "execution_count": 52,
   "id": "19b76804",
   "metadata": {},
   "outputs": [
    {
     "data": {
      "text/plain": [
       "23"
      ]
     },
     "execution_count": 52,
     "metadata": {},
     "output_type": "execute_result"
    }
   ],
   "source": [
    "myfile.write(\" using the append method\")"
   ]
  },
  {
   "cell_type": "code",
   "execution_count": 53,
   "id": "7085da5e",
   "metadata": {},
   "outputs": [
    {
     "data": {
      "text/plain": [
       "''"
      ]
     },
     "execution_count": 53,
     "metadata": {},
     "output_type": "execute_result"
    }
   ],
   "source": [
    "myfile.read()"
   ]
  },
  {
   "cell_type": "code",
   "execution_count": 54,
   "id": "d893aa6a",
   "metadata": {},
   "outputs": [
    {
     "data": {
      "text/plain": [
       "0"
      ]
     },
     "execution_count": 54,
     "metadata": {},
     "output_type": "execute_result"
    }
   ],
   "source": [
    "myfile.seek(0)"
   ]
  },
  {
   "cell_type": "code",
   "execution_count": 55,
   "id": "b9fcd348",
   "metadata": {},
   "outputs": [
    {
     "data": {
      "text/plain": [
       "'my brand new textusing the append method'"
      ]
     },
     "execution_count": 55,
     "metadata": {},
     "output_type": "execute_result"
    }
   ],
   "source": [
    "myfile.read()"
   ]
  },
  {
   "cell_type": "code",
   "execution_count": 56,
   "id": "02931454",
   "metadata": {},
   "outputs": [],
   "source": [
    "with open('test.txt', 'r') as mynewfile:\n",
    "    myvariable = mynewfile.readlines()"
   ]
  },
  {
   "cell_type": "code",
   "execution_count": 58,
   "id": "a4efab55",
   "metadata": {},
   "outputs": [
    {
     "data": {
      "text/plain": [
       "['my brand new textusing the append method']"
      ]
     },
     "execution_count": 58,
     "metadata": {},
     "output_type": "execute_result"
    }
   ],
   "source": [
    "myvariable"
   ]
  },
  {
   "cell_type": "code",
   "execution_count": null,
   "id": "b6db73fd",
   "metadata": {},
   "outputs": [],
   "source": []
  }
 ],
 "metadata": {
  "kernelspec": {
   "display_name": "Python 3 (ipykernel)",
   "language": "python",
   "name": "python3"
  },
  "language_info": {
   "codemirror_mode": {
    "name": "ipython",
    "version": 3
   },
   "file_extension": ".py",
   "mimetype": "text/x-python",
   "name": "python",
   "nbconvert_exporter": "python",
   "pygments_lexer": "ipython3",
   "version": "3.10.11"
  }
 },
 "nbformat": 4,
 "nbformat_minor": 5
}
